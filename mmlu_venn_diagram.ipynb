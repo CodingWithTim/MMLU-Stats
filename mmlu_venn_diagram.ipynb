{
  "nbformat": 4,
  "nbformat_minor": 0,
  "metadata": {
    "colab": {
      "provenance": []
    },
    "kernelspec": {
      "name": "python3",
      "display_name": "Python 3"
    },
    "language_info": {
      "name": "python"
    }
  },
  "cells": [
    {
      "cell_type": "code",
      "execution_count": 1,
      "metadata": {
        "colab": {
          "base_uri": "https://localhost:8080/"
        },
        "id": "3Tk5VWYL3KmD",
        "outputId": "5fad1ded-6f08-4b59-c2fa-53b1a2b35de8"
      },
      "outputs": [
        {
          "output_type": "stream",
          "name": "stdout",
          "text": [
            "Drive already mounted at /content/drive; to attempt to forcibly remount, call drive.mount(\"/content/drive\", force_remount=True).\n"
          ]
        }
      ],
      "source": [
        "# prompt: mount google drive\n",
        "\n",
        "from google.colab import drive\n",
        "drive.mount('/content/drive')\n"
      ]
    },
    {
      "cell_type": "code",
      "source": [
        "%cd /content/drive/MyDrive/"
      ],
      "metadata": {
        "colab": {
          "base_uri": "https://localhost:8080/"
        },
        "id": "bB1TFLi23QDH",
        "outputId": "fed295fe-ad05-41f3-e820-639c76a7e0ad"
      },
      "execution_count": 4,
      "outputs": [
        {
          "output_type": "stream",
          "name": "stdout",
          "text": [
            "/content/drive/MyDrive\n"
          ]
        }
      ]
    },
    {
      "cell_type": "code",
      "source": [
        "!git clone https://github.com/CodingWithTim/MMLU-stats.git\n",
        "%cd MMLU-stats/\n",
        "!git pull"
      ],
      "metadata": {
        "colab": {
          "base_uri": "https://localhost:8080/"
        },
        "id": "ibhJRLen3d2L",
        "outputId": "caedabe5-f2ff-4496-9d30-87eb3e0bc4ec"
      },
      "execution_count": 5,
      "outputs": [
        {
          "output_type": "stream",
          "name": "stdout",
          "text": [
            "fatal: destination path 'MMLU-stats' already exists and is not an empty directory.\n",
            "/content/drive/MyDrive/MMLU-stats\n",
            "remote: Enumerating objects: 63, done.\u001b[K\n",
            "remote: Counting objects: 100% (63/63), done.\u001b[K\n",
            "remote: Compressing objects: 100% (59/59), done.\u001b[K\n",
            "remote: Total 62 (delta 1), reused 62 (delta 1), pack-reused 0\u001b[K\n",
            "Unpacking objects: 100% (62/62), 1.93 MiB | 1.89 MiB/s, done.\n",
            "From https://github.com/CodingWithTim/MMLU-stats\n",
            "   3cf316c..357da63  main       -> origin/main\n",
            "Updating 3cf316c..357da63\n",
            "Fast-forward\n",
            " data/mmlu/test/abstract_algebra_test.csv           |  100 \u001b[32m++\u001b[m\n",
            " data/mmlu/test/anatomy_test.csv                    |  135 \u001b[32m++\u001b[m\n",
            " data/mmlu/test/astronomy_test.csv                  |  152 \u001b[32m++\u001b[m\n",
            " data/mmlu/test/business_ethics_test.csv            |  100 \u001b[32m++\u001b[m\n",
            " data/mmlu/test/clinical_knowledge_test.csv         |  265 \u001b[32m+++\u001b[m\n",
            " data/mmlu/test/college_biology_test.csv            |  147 \u001b[32m++\u001b[m\n",
            " data/mmlu/test/college_chemistry_test.csv          |  116 \u001b[32m++\u001b[m\n",
            " data/mmlu/test/college_computer_science_test.csv   |  219 \u001b[32m+++\u001b[m\n",
            " data/mmlu/test/college_mathematics_test.csv        |  148 \u001b[32m++\u001b[m\n",
            " data/mmlu/test/college_medicine_test.csv           |  224 \u001b[32m+++\u001b[m\n",
            " data/mmlu/test/college_physics_test.csv            |  102 \u001b[32m++\u001b[m\n",
            " data/mmlu/test/computer_security_test.csv          |  112 \u001b[32m++\u001b[m\n",
            " data/mmlu/test/conceptual_physics_test.csv         |  235 \u001b[32m+++\u001b[m\n",
            " data/mmlu/test/econometrics_test.csv               |  492 \u001b[32m+++++\u001b[m\n",
            " data/mmlu/test/electrical_engineering_test.csv     |  145 \u001b[32m++\u001b[m\n",
            " data/mmlu/test/elementary_mathematics_test.csv     |  388 \u001b[32m++++\u001b[m\n",
            " data/mmlu/test/formal_logic_test.csv               |  283 \u001b[32m+++\u001b[m\n",
            " data/mmlu/test/global_facts_test.csv               |  100 \u001b[32m++\u001b[m\n",
            " data/mmlu/test/high_school_biology_test.csv        |  310 \u001b[32m++++\u001b[m\n",
            " data/mmlu/test/high_school_chemistry_test.csv      |  203 \u001b[32m+++\u001b[m\n",
            " .../test/high_school_computer_science_test.csv     |  302 \u001b[32m++++\u001b[m\n",
            " .../test/high_school_european_history_test.csv     | 1111 \u001b[32m++++++++++++\u001b[m\n",
            " data/mmlu/test/high_school_geography_test.csv      |  198 \u001b[32m+++\u001b[m\n",
            " .../high_school_government_and_politics_test.csv   |  193 \u001b[32m++\u001b[m\n",
            " data/mmlu/test/high_school_macroeconomics_test.csv |  390 \u001b[32m++++\u001b[m\n",
            " data/mmlu/test/high_school_mathematics_test.csv    |  270 \u001b[32m+++\u001b[m\n",
            " data/mmlu/test/high_school_microeconomics_test.csv |  238 \u001b[32m+++\u001b[m\n",
            " data/mmlu/test/high_school_physics_test.csv        |  154 \u001b[32m++\u001b[m\n",
            " data/mmlu/test/high_school_psychology_test.csv     |  545 \u001b[32m++++++\u001b[m\n",
            " data/mmlu/test/high_school_statistics_test.csv     |  216 \u001b[32m+++\u001b[m\n",
            " data/mmlu/test/high_school_us_history_test.csv     |  988 \u001b[32m++++++++++\u001b[m\n",
            " data/mmlu/test/high_school_world_history_test.csv  | 1879 \u001b[32m++++++++++++++++++++\u001b[m\n",
            " data/mmlu/test/human_aging_test.csv                |  223 \u001b[32m+++\u001b[m\n",
            " data/mmlu/test/human_sexuality_test.csv            |  131 \u001b[32m++\u001b[m\n",
            " data/mmlu/test/international_law_test.csv          |  121 \u001b[32m++\u001b[m\n",
            " data/mmlu/test/jurisprudence_test.csv              |  108 \u001b[32m++\u001b[m\n",
            " data/mmlu/test/logical_fallacies_test.csv          |  167 \u001b[32m++\u001b[m\n",
            " data/mmlu/test/machine_learning_test.csv           |  112 \u001b[32m++\u001b[m\n",
            " data/mmlu/test/management_test.csv                 |  103 \u001b[32m++\u001b[m\n",
            " data/mmlu/test/marketing_test.csv                  |  234 \u001b[32m+++\u001b[m\n",
            " data/mmlu/test/medical_genetics_test.csv           |  100 \u001b[32m++\u001b[m\n",
            " data/mmlu/test/miscellaneous_test.csv              |  783 \u001b[32m++++++++\u001b[m\n",
            " data/mmlu/test/moral_disputes_test.csv             |  346 \u001b[32m++++\u001b[m\n",
            " data/mmlu/test/moral_scenarios_test.csv            |  895 \u001b[32m++++++++++\u001b[m\n",
            " data/mmlu/test/nutrition_test.csv                  |  615 \u001b[32m+++++++\u001b[m\n",
            " data/mmlu/test/philosophy_test.csv                 |  311 \u001b[32m++++\u001b[m\n",
            " data/mmlu/test/prehistory_test.csv                 |  324 \u001b[32m++++\u001b[m\n",
            " data/mmlu/test/professional_accounting_test.csv    |  290 \u001b[32m+++\u001b[m\n",
            " data/mmlu/test/professional_law_test.csv           | 1534 \u001b[32m++++++++++++++++\u001b[m\n",
            " data/mmlu/test/professional_medicine_test.csv      |  272 \u001b[32m+++\u001b[m\n",
            " data/mmlu/test/professional_psychology_test.csv    |  612 \u001b[32m+++++++\u001b[m\n",
            " data/mmlu/test/public_relations_test.csv           |  110 \u001b[32m++\u001b[m\n",
            " data/mmlu/test/security_studies_test.csv           |  245 \u001b[32m+++\u001b[m\n",
            " data/mmlu/test/sociology_test.csv                  |  201 \u001b[32m+++\u001b[m\n",
            " data/mmlu/test/us_foreign_policy_test.csv          |  104 \u001b[32m++\u001b[m\n",
            " data/mmlu/test/virology_test.csv                   |  166 \u001b[32m++\u001b[m\n",
            " data/mmlu/test/world_religions_test.csv            |  171 \u001b[32m++\u001b[m\n",
            " 57 files changed, 18738 insertions(+)\n",
            " create mode 100644 data/mmlu/test/abstract_algebra_test.csv\n",
            " create mode 100644 data/mmlu/test/anatomy_test.csv\n",
            " create mode 100644 data/mmlu/test/astronomy_test.csv\n",
            " create mode 100644 data/mmlu/test/business_ethics_test.csv\n",
            " create mode 100644 data/mmlu/test/clinical_knowledge_test.csv\n",
            " create mode 100644 data/mmlu/test/college_biology_test.csv\n",
            " create mode 100644 data/mmlu/test/college_chemistry_test.csv\n",
            " create mode 100644 data/mmlu/test/college_computer_science_test.csv\n",
            " create mode 100644 data/mmlu/test/college_mathematics_test.csv\n",
            " create mode 100644 data/mmlu/test/college_medicine_test.csv\n",
            " create mode 100644 data/mmlu/test/college_physics_test.csv\n",
            " create mode 100644 data/mmlu/test/computer_security_test.csv\n",
            " create mode 100644 data/mmlu/test/conceptual_physics_test.csv\n",
            " create mode 100644 data/mmlu/test/econometrics_test.csv\n",
            " create mode 100644 data/mmlu/test/electrical_engineering_test.csv\n",
            " create mode 100644 data/mmlu/test/elementary_mathematics_test.csv\n",
            " create mode 100644 data/mmlu/test/formal_logic_test.csv\n",
            " create mode 100644 data/mmlu/test/global_facts_test.csv\n",
            " create mode 100644 data/mmlu/test/high_school_biology_test.csv\n",
            " create mode 100644 data/mmlu/test/high_school_chemistry_test.csv\n",
            " create mode 100644 data/mmlu/test/high_school_computer_science_test.csv\n",
            " create mode 100644 data/mmlu/test/high_school_european_history_test.csv\n",
            " create mode 100644 data/mmlu/test/high_school_geography_test.csv\n",
            " create mode 100644 data/mmlu/test/high_school_government_and_politics_test.csv\n",
            " create mode 100644 data/mmlu/test/high_school_macroeconomics_test.csv\n",
            " create mode 100644 data/mmlu/test/high_school_mathematics_test.csv\n",
            " create mode 100644 data/mmlu/test/high_school_microeconomics_test.csv\n",
            " create mode 100644 data/mmlu/test/high_school_physics_test.csv\n",
            " create mode 100644 data/mmlu/test/high_school_psychology_test.csv\n",
            " create mode 100644 data/mmlu/test/high_school_statistics_test.csv\n",
            " create mode 100644 data/mmlu/test/high_school_us_history_test.csv\n",
            " create mode 100644 data/mmlu/test/high_school_world_history_test.csv\n",
            " create mode 100644 data/mmlu/test/human_aging_test.csv\n",
            " create mode 100644 data/mmlu/test/human_sexuality_test.csv\n",
            " create mode 100644 data/mmlu/test/international_law_test.csv\n",
            " create mode 100644 data/mmlu/test/jurisprudence_test.csv\n",
            " create mode 100644 data/mmlu/test/logical_fallacies_test.csv\n",
            " create mode 100644 data/mmlu/test/machine_learning_test.csv\n",
            " create mode 100644 data/mmlu/test/management_test.csv\n",
            " create mode 100644 data/mmlu/test/marketing_test.csv\n",
            " create mode 100644 data/mmlu/test/medical_genetics_test.csv\n",
            " create mode 100644 data/mmlu/test/miscellaneous_test.csv\n",
            " create mode 100644 data/mmlu/test/moral_disputes_test.csv\n",
            " create mode 100644 data/mmlu/test/moral_scenarios_test.csv\n",
            " create mode 100644 data/mmlu/test/nutrition_test.csv\n",
            " create mode 100644 data/mmlu/test/philosophy_test.csv\n",
            " create mode 100644 data/mmlu/test/prehistory_test.csv\n",
            " create mode 100644 data/mmlu/test/professional_accounting_test.csv\n",
            " create mode 100644 data/mmlu/test/professional_law_test.csv\n",
            " create mode 100644 data/mmlu/test/professional_medicine_test.csv\n",
            " create mode 100644 data/mmlu/test/professional_psychology_test.csv\n",
            " create mode 100644 data/mmlu/test/public_relations_test.csv\n",
            " create mode 100644 data/mmlu/test/security_studies_test.csv\n",
            " create mode 100644 data/mmlu/test/sociology_test.csv\n",
            " create mode 100644 data/mmlu/test/us_foreign_policy_test.csv\n",
            " create mode 100644 data/mmlu/test/virology_test.csv\n",
            " create mode 100644 data/mmlu/test/world_religions_test.csv\n"
          ]
        }
      ]
    },
    {
      "cell_type": "code",
      "source": [
        "import pandas\n",
        "import os\n",
        "import matplotlib.pyplot as plt\n",
        "\n",
        "from itertools import combinations\n",
        "from matplotlib_venn import venn3"
      ],
      "metadata": {
        "id": "-plM4Ate3q04"
      },
      "execution_count": 9,
      "outputs": []
    },
    {
      "cell_type": "code",
      "source": [
        "subjects = sorted(\n",
        "    [\n",
        "        f.split(\"_test.csv\")[0]\n",
        "        for f in os.listdir(os.path.join(\"data\", \"mmlu\", \"test\"))\n",
        "        if \"_test.csv\" in f\n",
        "    ]\n",
        ")"
      ],
      "metadata": {
        "id": "T7DRDSjT4R42"
      },
      "execution_count": 13,
      "outputs": []
    },
    {
      "cell_type": "code",
      "source": [
        "models = [\"llama13b\", \"vicuna7b\", \"vicuna13b\"]\n",
        "model_dfs = {}\n",
        "\n",
        "for subject in subjects:\n",
        "  model_df = pandas.read_csv(os.path.join(\"combined\", f'{subject}.csv'))\n",
        "  model_dfs[subject] = model_df"
      ],
      "metadata": {
        "id": "I89EUiVQ35ju"
      },
      "execution_count": 15,
      "outputs": []
    },
    {
      "cell_type": "code",
      "source": [
        "def venn_diagram(subject):\n",
        "  print(subject)\n",
        "\n",
        "  answers = []\n",
        "\n",
        "  for model in models:\n",
        "    model_answer = model_dfs[subject][f'{model} Answer'].values\n",
        "    correct_answer = model_answer == model_dfs[subject]['Correct Answer']\n",
        "\n",
        "    correct_indexes = [i for i, x in enumerate(correct_answer) if x]\n",
        "    incorrect_indexes = [i for i, x in enumerate(correct_answer) if not x]\n",
        "\n",
        "    answers.append(set(correct_indexes))\n",
        "\n",
        "  venn3(\n",
        "      subsets=answers,\n",
        "      set_labels=models,\n",
        "  )\n",
        "\n",
        "\n",
        "def venn_diagram_all():\n",
        "  print(\"All subjects\")\n",
        "\n",
        "  answers = []\n",
        "\n",
        "  for model in models:\n",
        "    for subject in subjects:\n",
        "      model_answer = model_dfs[subject][f'{model} Answer'].values\n",
        "      correct_answer = model_answer == model_dfs[subject]['Correct Answer']\n",
        "\n",
        "      correct_indexes = [subject + str(i) for i, x in enumerate(correct_answer) if x]\n",
        "      incorrect_indexes = [subject + str(i) for i, x in enumerate(correct_answer) if not x]\n",
        "\n",
        "    answers.append(set(correct_indexes))\n",
        "\n",
        "  venn3(\n",
        "      subsets=answers,\n",
        "      set_labels=models,\n",
        "  )\n"
      ],
      "metadata": {
        "id": "iHYTokcw3-L3"
      },
      "execution_count": 79,
      "outputs": []
    },
    {
      "cell_type": "markdown",
      "source": [
        "Use func venn_diagram to create venn diagram for one subject."
      ],
      "metadata": {
        "id": "vuOwv9sYNh_W"
      }
    },
    {
      "cell_type": "code",
      "source": [
        "venn_diagram(subjects[0])"
      ],
      "metadata": {
        "colab": {
          "base_uri": "https://localhost:8080/",
          "height": 425
        },
        "id": "wzZ_wkDe7wsv",
        "outputId": "ee4e9a4b-1e08-4aed-fd09-828acd35bd34"
      },
      "execution_count": 66,
      "outputs": [
        {
          "output_type": "stream",
          "name": "stdout",
          "text": [
            "abstract_algebra\n"
          ]
        },
        {
          "output_type": "display_data",
          "data": {
            "text/plain": [
              "<Figure size 640x480 with 1 Axes>"
            ],
            "image/png": "[encoded data removed]"
          },
          "metadata": {}
        }
      ]
    },
    {
      "cell_type": "markdown",
      "source": [
        "Use func venn_diagram_all() to create venn diagram across all subjects."
      ],
      "metadata": {
        "id": "b9TOqbCNNpOy"
      }
    },
    {
      "cell_type": "code",
      "source": [
        "venn_diagram_all()"
      ],
      "metadata": {
        "colab": {
          "base_uri": "https://localhost:8080/",
          "height": 428
        },
        "id": "PVbtVmzlCh4t",
        "outputId": "a854fbdf-8ec6-4800-c896-2308dea50ae2"
      },
      "execution_count": 80,
      "outputs": [
        {
          "output_type": "stream",
          "name": "stdout",
          "text": [
            "All subjects\n"
          ]
        },
        {
          "output_type": "display_data",
          "data": {
            "text/plain": [
              "<Figure size 640x480 with 1 Axes>"
            ],
            "image/png": "[encoded data removed]"
          },
          "metadata": {}
        }
      ]
    },
    {
      "cell_type": "markdown",
      "source": [
        "List of all subjects and their indexes."
      ],
      "metadata": {
        "id": "0Ql414_bOKu7"
      }
    },
    {
      "cell_type": "code",
      "source": [
        "for i, subject in enumerate(subjects):\n",
        "  print(str(i) + \": \" + subject)"
      ],
      "metadata": {
        "colab": {
          "base_uri": "https://localhost:8080/"
        },
        "id": "b-VnrpuqNOJn",
        "outputId": "f45d4860-f3a7-42bb-d2df-0b91cb4934f7"
      },
      "execution_count": 82,
      "outputs": [
        {
          "output_type": "stream",
          "name": "stdout",
          "text": [
            "0: abstract_algebra\n",
            "1: anatomy\n",
            "2: astronomy\n",
            "3: business_ethics\n",
            "4: clinical_knowledge\n",
            "5: college_biology\n",
            "6: college_chemistry\n",
            "7: college_computer_science\n",
            "8: college_mathematics\n",
            "9: college_medicine\n",
            "10: college_physics\n",
            "11: computer_security\n",
            "12: conceptual_physics\n",
            "13: econometrics\n",
            "14: electrical_engineering\n",
            "15: elementary_mathematics\n",
            "16: formal_logic\n",
            "17: global_facts\n",
            "18: high_school_biology\n",
            "19: high_school_chemistry\n",
            "20: high_school_computer_science\n",
            "21: high_school_european_history\n",
            "22: high_school_geography\n",
            "23: high_school_government_and_politics\n",
            "24: high_school_macroeconomics\n",
            "25: high_school_mathematics\n",
            "26: high_school_microeconomics\n",
            "27: high_school_physics\n",
            "28: high_school_psychology\n",
            "29: high_school_statistics\n",
            "30: high_school_us_history\n",
            "31: high_school_world_history\n",
            "32: human_aging\n",
            "33: human_sexuality\n",
            "34: international_law\n",
            "35: jurisprudence\n",
            "36: logical_fallacies\n",
            "37: machine_learning\n",
            "38: management\n",
            "39: marketing\n",
            "40: medical_genetics\n",
            "41: miscellaneous\n",
            "42: moral_disputes\n",
            "43: moral_scenarios\n",
            "44: nutrition\n",
            "45: philosophy\n",
            "46: prehistory\n",
            "47: professional_accounting\n",
            "48: professional_law\n",
            "49: professional_medicine\n",
            "50: professional_psychology\n",
            "51: public_relations\n",
            "52: security_studies\n",
            "53: sociology\n",
            "54: us_foreign_policy\n",
            "55: virology\n",
            "56: world_religions\n"
          ]
        }
      ]
    },
    {
      "cell_type": "code",
      "source": [],
      "metadata": {
        "id": "xR8nUzJAOImV"
      },
      "execution_count": null,
      "outputs": []
    }
  ]
}